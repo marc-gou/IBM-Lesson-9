{
    "nbformat_minor": 1, 
    "cells": [
        {
            "source": "# IBM Capstone Project\n### by Marc Gou\n\n## Phase 2: Segmenting and Clustering Neighborhoods in Toronto", 
            "cell_type": "markdown", 
            "metadata": {
                "collapsed": true
            }
        }, 
        {
            "source": "For this assignment, you will be required to explore and cluster the neighborhoods in Toronto.\n\n1. Start by creating a new Notebook for this assignment.\n---\n2. Use the Notebook to build the code to scrape the following Wikipedia page, https://en.wikipedia.org/wiki/List_of_postal_codes_of_Canada:_M, in order to obtain the data that is in the table of postal codes and to transform the data into a pandas dataframe like the one shown below:\n![alt text][logo]\n[logo]: https://d3c33hcgiwev3.cloudfront.net/imageAssetProxy.v1/7JXaz3NNEeiMwApe4i-fLg_40e690ae0e927abda2d4bde7d94ed133_Screen-Shot-2018-06-18-at-7.17.57-PM.png?expiry=1546646400000&hmac=CRqh9ZyRbEZRxrrEhJftbfRQumTwfQDD3wnfdlYgc08\n---  \n3. To create the above dataframe:\n\n  * The dataframe will consist of three columns: PostalCode, Borough, and Neighborhood\n  * Only process the cells that have an assigned borough. Ignore cells with a borough that is **Not assigned**.\n  * More than one neighborhood can exist in one postal code area. For example, in the table on the Wikipedia page, you will notice that **M5A** is listed twice and has two neighborhoods: **Harbourfront** and **Regent Park**. These two rows will be combined into one row with the neighborhoods separated with a comma as shown in **row 11** in the above table.\n  * If a cell has a borough but a **Not assigned** neighborhood, then the neighborhood will be the same as the borough. So for the **9th** cell in the table on the Wikipedia page, the value of the Borough and the Neighborhood columns will be **Queen's Park.**\n  * Clean your Notebook and add Markdown cells to explain your work and any assumptions you are making.\n  * In the last cell of your notebook, use the **.shape** method to print the number of rows of your dataframe.\n---    \n4. Submit a link to your Notebook on your Github repository. **(10 marks)**", 
            "cell_type": "markdown", 
            "metadata": {}
        }, 
        {
            "source": "## My Submission:", 
            "cell_type": "markdown", 
            "metadata": {}
        }, 
        {
            "source": "**Step 1: Installation and import of useful libraries**", 
            "cell_type": "markdown", 
            "metadata": {}
        }, 
        {
            "source": "# Installation of useful libraries\n# !conda install -c conda-forge beautifulsoup4 --yes\n\n# Import of useful libraries\nimport numpy as np\nimport pandas as pd\nfrom bs4 import BeautifulSoup\nimport urllib.request as req", 
            "cell_type": "code", 
            "metadata": {}, 
            "outputs": [], 
            "execution_count": 87
        }, 
        {
            "source": "**Step 2: Request to the wiki page and parse it with BeautifulSoup, and locate the Toronto neighborhoods table**", 
            "cell_type": "markdown", 
            "metadata": {}
        }, 
        {
            "source": "# Open the URL\nwiki_url = 'https://en.wikipedia.org/wiki/List_of_postal_codes_of_Canada:_M'\nwiki_req = req.urlopen(wiki_url)\n\n# Parsing with BeautifulSoup\nwiki_soup = BeautifulSoup(wiki_req, 'lxml')\n# print(wiki_soup.prettify())", 
            "cell_type": "code", 
            "metadata": {
                "scrolled": true
            }, 
            "outputs": [], 
            "execution_count": 88
        }, 
        {
            "source": "*We can see that the table of Toronto neighborhoods are under the class \"wikitable sortable\"*", 
            "cell_type": "markdown", 
            "metadata": {}
        }, 
        {
            "source": "# Locate the table containing the \nneig_table = wiki_soup.find('table', attrs={'class':'wikitable sortable'})", 
            "cell_type": "code", 
            "metadata": {}, 
            "outputs": [], 
            "execution_count": 89
        }, 
        {
            "source": "**Step 3: Convert the XML Tree above to a dataframe**", 
            "cell_type": "markdown", 
            "metadata": {}
        }, 
        {
            "source": "*We can see that the headers are marked with the tag __th__*", 
            "cell_type": "markdown", 
            "metadata": {}
        }, 
        {
            "source": "# Extract all the headers\ntable_h = neig_table.findAll('th')\n\n# Define the headers\nheaders = []\nfor h in table_h:\n    headers.append(h.contents[0].replace('\\n',''))", 
            "cell_type": "code", 
            "metadata": {}, 
            "outputs": [], 
            "execution_count": 90
        }, 
        {
            "source": "*We can see that each neighborhood are marked with the tag __tr__ with __td__ for the value of their attributes*", 
            "cell_type": "markdown", 
            "metadata": {}
        }, 
        {
            "source": "# Extract all the neighborhood data\ntable_n = neig_table.findAll('td')\n\n# Insert the data, 3 elements for each postal code\nfull_data = []\nfor i in range(0, len(table_n)-3, 3):\n    pc_data = []\n    e1 = table_n[i].contents[0]\n    e2 = table_n[i+1].contents[0]\n    e3 = table_n[i+2].contents[0]\n    pc_data.append(e1.replace('\\n',''))\n    if(str(e2)[0:2] == '<a'):\n        pc_data.append(e2.get('title'))\n    else:\n        pc_data.append(e2.replace('\\n',''))    \n    if(str(e3)[0:2] == '<a'):\n        pc_data.append(e3.get('title'))\n    else:\n        pc_data.append(e3.replace('\\n',''))\n    full_data.append(pc_data)", 
            "cell_type": "code", 
            "metadata": {}, 
            "outputs": [], 
            "execution_count": 91
        }, 
        {
            "source": "*Now let's convert the data to a dataframe*", 
            "cell_type": "markdown", 
            "metadata": {}
        }, 
        {
            "source": "df = pd.DataFrame(data = full_data, columns = headers)\ndf.head()", 
            "cell_type": "code", 
            "metadata": {
                "scrolled": true
            }, 
            "outputs": [
                {
                    "output_type": "execute_result", 
                    "data": {
                        "text/plain": "  Postcode           Borough           Neighbourhood\n0      M1A      Not assigned            Not assigned\n1      M2A      Not assigned            Not assigned\n2      M3A        North York               Parkwoods\n3      M4A        North York        Victoria Village\n4      M5A  Downtown Toronto  Harbourfront (Toronto)", 
                        "text/html": "<div>\n<style scoped>\n    .dataframe tbody tr th:only-of-type {\n        vertical-align: middle;\n    }\n\n    .dataframe tbody tr th {\n        vertical-align: top;\n    }\n\n    .dataframe thead th {\n        text-align: right;\n    }\n</style>\n<table border=\"1\" class=\"dataframe\">\n  <thead>\n    <tr style=\"text-align: right;\">\n      <th></th>\n      <th>Postcode</th>\n      <th>Borough</th>\n      <th>Neighbourhood</th>\n    </tr>\n  </thead>\n  <tbody>\n    <tr>\n      <th>0</th>\n      <td>M1A</td>\n      <td>Not assigned</td>\n      <td>Not assigned</td>\n    </tr>\n    <tr>\n      <th>1</th>\n      <td>M2A</td>\n      <td>Not assigned</td>\n      <td>Not assigned</td>\n    </tr>\n    <tr>\n      <th>2</th>\n      <td>M3A</td>\n      <td>North York</td>\n      <td>Parkwoods</td>\n    </tr>\n    <tr>\n      <th>3</th>\n      <td>M4A</td>\n      <td>North York</td>\n      <td>Victoria Village</td>\n    </tr>\n    <tr>\n      <th>4</th>\n      <td>M5A</td>\n      <td>Downtown Toronto</td>\n      <td>Harbourfront (Toronto)</td>\n    </tr>\n  </tbody>\n</table>\n</div>"
                    }, 
                    "execution_count": 92, 
                    "metadata": {}
                }
            ], 
            "execution_count": 92
        }, 
        {
            "source": "**Step 4: Process the dataframe according to the requirements**", 
            "cell_type": "markdown", 
            "metadata": {}
        }, 
        {
            "source": "# Ignore cells with a borough that is Not assigned.\ndf = df[df.Borough != 'Not assigned'].reset_index(drop=True)\n\n# If a cell has a borough but a Not assigned neighborhood, then the neighborhood will be the same as the borough.\ndf.loc[df['Neighbourhood'] == 'Not assigned', 'Neighbourhood'] = df.Borough\n\n# When more than one neighborhood can exist in one postal code area: these two rows will be combined into one row \n# with the neighborhoods separated with a comma as shown in row 11 in the above table.\ndf = df.groupby(['Postcode', 'Borough'])['Neighbourhood'].apply(lambda x: \"%s\" % ', '.join(x)).reset_index()\ndf", 
            "cell_type": "code", 
            "metadata": {
                "scrolled": true
            }, 
            "outputs": [
                {
                    "output_type": "execute_result", 
                    "data": {
                        "text/plain": "    Postcode                 Borough  \\\n0        M1B    Scarborough, Toronto   \n1        M1C    Scarborough, Toronto   \n2        M1E    Scarborough, Toronto   \n3        M1G    Scarborough, Toronto   \n4        M1H    Scarborough, Toronto   \n5        M1J    Scarborough, Toronto   \n6        M1K    Scarborough, Toronto   \n7        M1L    Scarborough, Toronto   \n8        M1M    Scarborough, Toronto   \n9        M1N    Scarborough, Toronto   \n10       M1P    Scarborough, Toronto   \n11       M1R    Scarborough, Toronto   \n12       M1S    Scarborough, Toronto   \n13       M1T    Scarborough, Toronto   \n14       M1V    Scarborough, Toronto   \n15       M1W    Scarborough, Toronto   \n16       M1X    Scarborough, Toronto   \n17       M2H              North York   \n18       M2J              North York   \n19       M2K              North York   \n20       M2L              North York   \n21       M2M              North York   \n22       M2N              North York   \n23       M2P              North York   \n24       M2R              North York   \n25       M3A              North York   \n26       M3B              North York   \n27       M3C              North York   \n28       M3H              North York   \n29       M3J              North York   \n..       ...                     ...   \n73       M6C                    York   \n74       M6E                    York   \n75       M6G        Downtown Toronto   \n76       M6H            West Toronto   \n77       M6J            West Toronto   \n78       M6K            West Toronto   \n79       M6L              North York   \n80       M6M                    York   \n81       M6N                    York   \n82       M6P            West Toronto   \n83       M6R            West Toronto   \n84       M6S            West Toronto   \n85       M7A  Queen's Park (Toronto)   \n86       M7R             Mississauga   \n87       M7Y            East Toronto   \n88       M8V               Etobicoke   \n89       M8W               Etobicoke   \n90       M8X               Etobicoke   \n91       M8Y               Etobicoke   \n92       M8Z               Etobicoke   \n93       M9A               Etobicoke   \n94       M9B               Etobicoke   \n95       M9C               Etobicoke   \n96       M9L              North York   \n97       M9M              North York   \n98       M9N                    York   \n99       M9P               Etobicoke   \n100      M9R               Etobicoke   \n101      M9V               Etobicoke   \n102      M9W               Etobicoke   \n\n                                         Neighbourhood  \n0                     Rouge, Toronto, Malvern, Toronto  \n1    Highland Creek (Toronto), Rouge Hill, Port Uni...  \n2    Guildwood, Morningside, Toronto, West Hill, To...  \n3                                      Woburn, Toronto  \n4                                      Woburn, Toronto  \n5                                  Scarborough Village  \n6    East Birchmount Park, Ionview, Kennedy Park, T...  \n7    Clairlea, Golden Mile, Toronto, Oakridge, Toronto  \n8    Cliffcrest, Cliffside, Toronto, Scarborough Vi...  \n9                          Birch Cliff, Cliffside West  \n10   Dorset Park, Scarborough Town Centre, Wexford ...  \n11                          Maryvale, Toronto, Wexford  \n12                                  Agincourt, Toronto  \n13   Clarks Corners, Sullivan, Tam O'Shanter \u2013 Sull...  \n14   Agincourt North, L'Amoreaux East, Milliken, On...  \n15                       L'Amoreaux West, Steeles West  \n16                                         Upper Rouge  \n17                                   Hillcrest Village  \n18                        Fairview, Henry Farm, Oriole  \n19                                     Bayview Village  \n20                            Silver Hills, York Mills  \n21                    Newtonbrook, Willowdale, Toronto  \n22                                    Willowdale South  \n23                                     York Mills West  \n24                                     Willowdale West  \n25                                           Parkwoods  \n26                                     Don Mills North  \n27                    Flemingdon Park, Don Mills South  \n28   Bathurst Manor, Downsview North, Wilson Height...  \n29                     Northwood Park, York University  \n..                                                 ...  \n73                                  Humewood-Cedarvale  \n74                                 Caledonia-Fairbanks  \n75                                            Christie  \n76                        Dovercourt Village, Dufferin  \n77         Little Portugal, Toronto, Trinity\u2013Bellwoods  \n78        Brockton, Exhibition Place, Parkdale Village  \n79            Maple Leaf Park, North Park, Upwood Park  \n80   Del Ray, Keelesdale, Mount Dennis, Silverthorn...  \n81                       The Junction North, Runnymede  \n82                       High Park, The Junction South  \n83                     Parkdale, Toronto, Roncesvalles  \n84                                  Runnymede, Swansea  \n85                              Queen's Park (Toronto)  \n86               Canada Post Gateway Processing Centre  \n87    Business reply mail Processing Centre969 Eastern  \n88        Humber Bay Shores, Mimico South, New Toronto  \n89            Alderwood, Toronto, Long Branch, Toronto  \n90       The Kingsway, Montgomery Road, Old Mill North  \n91   Humber Bay, Kingsmills Park, Kingsway Park Sou...  \n92   Kingsway Park South West, Mimico, The Queenswa...  \n93                                    Islington Avenue  \n94   Cloverdale, Islington, Martin Grove, Princess ...  \n95   Bloordale Gardens, Eringate, Markland Wood, Ol...  \n96                                       Humber Summit  \n97                           Emery, Toronto, Humberlea  \n98                                     Weston, Toronto  \n99                                           Westmount  \n100  Kingsview Village, Martin Grove Gardens, Richv...  \n101  Albion Gardens, Beaumond Heights, Humbergate, ...  \n102                                          Northwest  \n\n[103 rows x 3 columns]", 
                        "text/html": "<div>\n<style scoped>\n    .dataframe tbody tr th:only-of-type {\n        vertical-align: middle;\n    }\n\n    .dataframe tbody tr th {\n        vertical-align: top;\n    }\n\n    .dataframe thead th {\n        text-align: right;\n    }\n</style>\n<table border=\"1\" class=\"dataframe\">\n  <thead>\n    <tr style=\"text-align: right;\">\n      <th></th>\n      <th>Postcode</th>\n      <th>Borough</th>\n      <th>Neighbourhood</th>\n    </tr>\n  </thead>\n  <tbody>\n    <tr>\n      <th>0</th>\n      <td>M1B</td>\n      <td>Scarborough, Toronto</td>\n      <td>Rouge, Toronto, Malvern, Toronto</td>\n    </tr>\n    <tr>\n      <th>1</th>\n      <td>M1C</td>\n      <td>Scarborough, Toronto</td>\n      <td>Highland Creek (Toronto), Rouge Hill, Port Uni...</td>\n    </tr>\n    <tr>\n      <th>2</th>\n      <td>M1E</td>\n      <td>Scarborough, Toronto</td>\n      <td>Guildwood, Morningside, Toronto, West Hill, To...</td>\n    </tr>\n    <tr>\n      <th>3</th>\n      <td>M1G</td>\n      <td>Scarborough, Toronto</td>\n      <td>Woburn, Toronto</td>\n    </tr>\n    <tr>\n      <th>4</th>\n      <td>M1H</td>\n      <td>Scarborough, Toronto</td>\n      <td>Woburn, Toronto</td>\n    </tr>\n    <tr>\n      <th>5</th>\n      <td>M1J</td>\n      <td>Scarborough, Toronto</td>\n      <td>Scarborough Village</td>\n    </tr>\n    <tr>\n      <th>6</th>\n      <td>M1K</td>\n      <td>Scarborough, Toronto</td>\n      <td>East Birchmount Park, Ionview, Kennedy Park, T...</td>\n    </tr>\n    <tr>\n      <th>7</th>\n      <td>M1L</td>\n      <td>Scarborough, Toronto</td>\n      <td>Clairlea, Golden Mile, Toronto, Oakridge, Toronto</td>\n    </tr>\n    <tr>\n      <th>8</th>\n      <td>M1M</td>\n      <td>Scarborough, Toronto</td>\n      <td>Cliffcrest, Cliffside, Toronto, Scarborough Vi...</td>\n    </tr>\n    <tr>\n      <th>9</th>\n      <td>M1N</td>\n      <td>Scarborough, Toronto</td>\n      <td>Birch Cliff, Cliffside West</td>\n    </tr>\n    <tr>\n      <th>10</th>\n      <td>M1P</td>\n      <td>Scarborough, Toronto</td>\n      <td>Dorset Park, Scarborough Town Centre, Wexford ...</td>\n    </tr>\n    <tr>\n      <th>11</th>\n      <td>M1R</td>\n      <td>Scarborough, Toronto</td>\n      <td>Maryvale, Toronto, Wexford</td>\n    </tr>\n    <tr>\n      <th>12</th>\n      <td>M1S</td>\n      <td>Scarborough, Toronto</td>\n      <td>Agincourt, Toronto</td>\n    </tr>\n    <tr>\n      <th>13</th>\n      <td>M1T</td>\n      <td>Scarborough, Toronto</td>\n      <td>Clarks Corners, Sullivan, Tam O'Shanter \u2013 Sull...</td>\n    </tr>\n    <tr>\n      <th>14</th>\n      <td>M1V</td>\n      <td>Scarborough, Toronto</td>\n      <td>Agincourt North, L'Amoreaux East, Milliken, On...</td>\n    </tr>\n    <tr>\n      <th>15</th>\n      <td>M1W</td>\n      <td>Scarborough, Toronto</td>\n      <td>L'Amoreaux West, Steeles West</td>\n    </tr>\n    <tr>\n      <th>16</th>\n      <td>M1X</td>\n      <td>Scarborough, Toronto</td>\n      <td>Upper Rouge</td>\n    </tr>\n    <tr>\n      <th>17</th>\n      <td>M2H</td>\n      <td>North York</td>\n      <td>Hillcrest Village</td>\n    </tr>\n    <tr>\n      <th>18</th>\n      <td>M2J</td>\n      <td>North York</td>\n      <td>Fairview, Henry Farm, Oriole</td>\n    </tr>\n    <tr>\n      <th>19</th>\n      <td>M2K</td>\n      <td>North York</td>\n      <td>Bayview Village</td>\n    </tr>\n    <tr>\n      <th>20</th>\n      <td>M2L</td>\n      <td>North York</td>\n      <td>Silver Hills, York Mills</td>\n    </tr>\n    <tr>\n      <th>21</th>\n      <td>M2M</td>\n      <td>North York</td>\n      <td>Newtonbrook, Willowdale, Toronto</td>\n    </tr>\n    <tr>\n      <th>22</th>\n      <td>M2N</td>\n      <td>North York</td>\n      <td>Willowdale South</td>\n    </tr>\n    <tr>\n      <th>23</th>\n      <td>M2P</td>\n      <td>North York</td>\n      <td>York Mills West</td>\n    </tr>\n    <tr>\n      <th>24</th>\n      <td>M2R</td>\n      <td>North York</td>\n      <td>Willowdale West</td>\n    </tr>\n    <tr>\n      <th>25</th>\n      <td>M3A</td>\n      <td>North York</td>\n      <td>Parkwoods</td>\n    </tr>\n    <tr>\n      <th>26</th>\n      <td>M3B</td>\n      <td>North York</td>\n      <td>Don Mills North</td>\n    </tr>\n    <tr>\n      <th>27</th>\n      <td>M3C</td>\n      <td>North York</td>\n      <td>Flemingdon Park, Don Mills South</td>\n    </tr>\n    <tr>\n      <th>28</th>\n      <td>M3H</td>\n      <td>North York</td>\n      <td>Bathurst Manor, Downsview North, Wilson Height...</td>\n    </tr>\n    <tr>\n      <th>29</th>\n      <td>M3J</td>\n      <td>North York</td>\n      <td>Northwood Park, York University</td>\n    </tr>\n    <tr>\n      <th>...</th>\n      <td>...</td>\n      <td>...</td>\n      <td>...</td>\n    </tr>\n    <tr>\n      <th>73</th>\n      <td>M6C</td>\n      <td>York</td>\n      <td>Humewood-Cedarvale</td>\n    </tr>\n    <tr>\n      <th>74</th>\n      <td>M6E</td>\n      <td>York</td>\n      <td>Caledonia-Fairbanks</td>\n    </tr>\n    <tr>\n      <th>75</th>\n      <td>M6G</td>\n      <td>Downtown Toronto</td>\n      <td>Christie</td>\n    </tr>\n    <tr>\n      <th>76</th>\n      <td>M6H</td>\n      <td>West Toronto</td>\n      <td>Dovercourt Village, Dufferin</td>\n    </tr>\n    <tr>\n      <th>77</th>\n      <td>M6J</td>\n      <td>West Toronto</td>\n      <td>Little Portugal, Toronto, Trinity\u2013Bellwoods</td>\n    </tr>\n    <tr>\n      <th>78</th>\n      <td>M6K</td>\n      <td>West Toronto</td>\n      <td>Brockton, Exhibition Place, Parkdale Village</td>\n    </tr>\n    <tr>\n      <th>79</th>\n      <td>M6L</td>\n      <td>North York</td>\n      <td>Maple Leaf Park, North Park, Upwood Park</td>\n    </tr>\n    <tr>\n      <th>80</th>\n      <td>M6M</td>\n      <td>York</td>\n      <td>Del Ray, Keelesdale, Mount Dennis, Silverthorn...</td>\n    </tr>\n    <tr>\n      <th>81</th>\n      <td>M6N</td>\n      <td>York</td>\n      <td>The Junction North, Runnymede</td>\n    </tr>\n    <tr>\n      <th>82</th>\n      <td>M6P</td>\n      <td>West Toronto</td>\n      <td>High Park, The Junction South</td>\n    </tr>\n    <tr>\n      <th>83</th>\n      <td>M6R</td>\n      <td>West Toronto</td>\n      <td>Parkdale, Toronto, Roncesvalles</td>\n    </tr>\n    <tr>\n      <th>84</th>\n      <td>M6S</td>\n      <td>West Toronto</td>\n      <td>Runnymede, Swansea</td>\n    </tr>\n    <tr>\n      <th>85</th>\n      <td>M7A</td>\n      <td>Queen's Park (Toronto)</td>\n      <td>Queen's Park (Toronto)</td>\n    </tr>\n    <tr>\n      <th>86</th>\n      <td>M7R</td>\n      <td>Mississauga</td>\n      <td>Canada Post Gateway Processing Centre</td>\n    </tr>\n    <tr>\n      <th>87</th>\n      <td>M7Y</td>\n      <td>East Toronto</td>\n      <td>Business reply mail Processing Centre969 Eastern</td>\n    </tr>\n    <tr>\n      <th>88</th>\n      <td>M8V</td>\n      <td>Etobicoke</td>\n      <td>Humber Bay Shores, Mimico South, New Toronto</td>\n    </tr>\n    <tr>\n      <th>89</th>\n      <td>M8W</td>\n      <td>Etobicoke</td>\n      <td>Alderwood, Toronto, Long Branch, Toronto</td>\n    </tr>\n    <tr>\n      <th>90</th>\n      <td>M8X</td>\n      <td>Etobicoke</td>\n      <td>The Kingsway, Montgomery Road, Old Mill North</td>\n    </tr>\n    <tr>\n      <th>91</th>\n      <td>M8Y</td>\n      <td>Etobicoke</td>\n      <td>Humber Bay, Kingsmills Park, Kingsway Park Sou...</td>\n    </tr>\n    <tr>\n      <th>92</th>\n      <td>M8Z</td>\n      <td>Etobicoke</td>\n      <td>Kingsway Park South West, Mimico, The Queenswa...</td>\n    </tr>\n    <tr>\n      <th>93</th>\n      <td>M9A</td>\n      <td>Etobicoke</td>\n      <td>Islington Avenue</td>\n    </tr>\n    <tr>\n      <th>94</th>\n      <td>M9B</td>\n      <td>Etobicoke</td>\n      <td>Cloverdale, Islington, Martin Grove, Princess ...</td>\n    </tr>\n    <tr>\n      <th>95</th>\n      <td>M9C</td>\n      <td>Etobicoke</td>\n      <td>Bloordale Gardens, Eringate, Markland Wood, Ol...</td>\n    </tr>\n    <tr>\n      <th>96</th>\n      <td>M9L</td>\n      <td>North York</td>\n      <td>Humber Summit</td>\n    </tr>\n    <tr>\n      <th>97</th>\n      <td>M9M</td>\n      <td>North York</td>\n      <td>Emery, Toronto, Humberlea</td>\n    </tr>\n    <tr>\n      <th>98</th>\n      <td>M9N</td>\n      <td>York</td>\n      <td>Weston, Toronto</td>\n    </tr>\n    <tr>\n      <th>99</th>\n      <td>M9P</td>\n      <td>Etobicoke</td>\n      <td>Westmount</td>\n    </tr>\n    <tr>\n      <th>100</th>\n      <td>M9R</td>\n      <td>Etobicoke</td>\n      <td>Kingsview Village, Martin Grove Gardens, Richv...</td>\n    </tr>\n    <tr>\n      <th>101</th>\n      <td>M9V</td>\n      <td>Etobicoke</td>\n      <td>Albion Gardens, Beaumond Heights, Humbergate, ...</td>\n    </tr>\n    <tr>\n      <th>102</th>\n      <td>M9W</td>\n      <td>Etobicoke</td>\n      <td>Northwest</td>\n    </tr>\n  </tbody>\n</table>\n<p>103 rows \u00d7 3 columns</p>\n</div>"
                    }, 
                    "execution_count": 93, 
                    "metadata": {}
                }
            ], 
            "execution_count": 93
        }, 
        {
            "source": "*In the last cell of your notebook, use the .shape method to print the number of rows of your dataframe*", 
            "cell_type": "markdown", 
            "metadata": {}
        }, 
        {
            "source": "df.shape", 
            "cell_type": "code", 
            "metadata": {}, 
            "outputs": [
                {
                    "output_type": "execute_result", 
                    "data": {
                        "text/plain": "(103, 3)"
                    }, 
                    "execution_count": 94, 
                    "metadata": {}
                }
            ], 
            "execution_count": 94
        }
    ], 
    "metadata": {
        "kernelspec": {
            "display_name": "Python 3.5", 
            "name": "python3", 
            "language": "python"
        }, 
        "language_info": {
            "mimetype": "text/x-python", 
            "nbconvert_exporter": "python", 
            "version": "3.5.5", 
            "name": "python", 
            "pygments_lexer": "ipython3", 
            "file_extension": ".py", 
            "codemirror_mode": {
                "version": 3, 
                "name": "ipython"
            }
        }
    }, 
    "nbformat": 4
}